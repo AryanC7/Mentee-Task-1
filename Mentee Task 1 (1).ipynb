{
 "cells": [
  {
   "cell_type": "markdown",
   "id": "77dc44b5",
   "metadata": {},
   "source": [
    "### Question 6"
   ]
  },
  {
   "cell_type": "code",
   "execution_count": 3,
   "id": "512c5fbe",
   "metadata": {},
   "outputs": [
    {
     "name": "stdout",
     "output_type": "stream",
     "text": [
      "the first elements of both lists is not same\n",
      "the last elements of both lists is not same\n"
     ]
    }
   ],
   "source": [
    "numbers_x = [10, 20, 30, 40, 10]\n",
    "numbers_y = [75, 65, 35, 75, 30]\n",
    "\n",
    "if numbers_x[0] == numbers_y[0]:\n",
    "    print(\"the first elements of both lists is the same\")\n",
    "else: print(\"the first elements of both lists is not same\")\n",
    "\n",
    "if numbers_x[len(numbers_x)-1] == numbers_y[len(numbers_y)-1]:\n",
    "    print(\"the last elements of both lists is the same\")\n",
    "else: print(\"the last elements of both lists is not same\")"
   ]
  },
  {
   "cell_type": "markdown",
   "id": "2389c53c",
   "metadata": {},
   "source": [
    "### Question 7"
   ]
  },
  {
   "cell_type": "code",
   "execution_count": 11,
   "id": "90ee218a",
   "metadata": {},
   "outputs": [
    {
     "name": "stdout",
     "output_type": "stream",
     "text": [
      "A \n",
      "2 3 \n",
      "D E F \n",
      "7 8 9 10 \n",
      "K L M N O \n"
     ]
    }
   ],
   "source": [
    "letter = ord('A')\n",
    "number = 1\n",
    "\n",
    "for rows in range(1,6):\n",
    "    for columns in range(rows):\n",
    "        if rows % 2 == 1:\n",
    "            print(chr(letter), end=' ')\n",
    "        else:\n",
    "            print(number, end= ' ')\n",
    "        letter+=1\n",
    "        number+=1\n",
    "    print()"
   ]
  },
  {
   "cell_type": "markdown",
   "id": "ec6bb037",
   "metadata": {},
   "source": [
    "### Question 8"
   ]
  },
  {
   "cell_type": "code",
   "execution_count": 1,
   "id": "0f64c0b4",
   "metadata": {},
   "outputs": [
    {
     "name": "stdout",
     "output_type": "stream",
     "text": [
      "enter the number of rows: 6\n",
      "     *     \n",
      "    * *    \n",
      "   *   *   \n",
      "  *     *  \n",
      " *       * \n",
      "* * * * * *\n",
      "           \n",
      "           \n",
      "           \n",
      "           \n"
     ]
    }
   ],
   "source": [
    "r = int(input(\"enter the number of rows: \"))\n",
    "for i in range(1,r+r-1):\n",
    "    for j in range (1, 2*r):\n",
    "        if (i==r and j%2!=0) or i+j==r+1 or j-i==r-1:\n",
    "            print(\"*\", end='')\n",
    "        else:\n",
    "            print(\" \", end='')\n",
    "    print()"
   ]
  }
 ],
 "metadata": {
  "kernelspec": {
   "display_name": "Python 3 (ipykernel)",
   "language": "python",
   "name": "python3"
  },
  "language_info": {
   "codemirror_mode": {
    "name": "ipython",
    "version": 3
   },
   "file_extension": ".py",
   "mimetype": "text/x-python",
   "name": "python",
   "nbconvert_exporter": "python",
   "pygments_lexer": "ipython3",
   "version": "3.10.12"
  }
 },
 "nbformat": 4,
 "nbformat_minor": 5
}
